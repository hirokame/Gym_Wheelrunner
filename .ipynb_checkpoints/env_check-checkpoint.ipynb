{
 "cells": [
  {
   "cell_type": "code",
   "execution_count": 3,
   "metadata": {},
   "outputs": [],
   "source": [
    "import matplotlib.pyplot as plt\n",
    "import numpy as np\n",
    "\n",
    "from sb3_contrib import RecurrentPPO\n",
    "\n",
    "from environment import CustomEnv\n",
    "from leaky_environment import CustomEnv_leaky\n",
    "\n",
    "%matplotlib qt\n",
    "\n",
    "env = CustomEnv()\n",
    "obs = env.reset()"
   ]
  },
  {
   "cell_type": "code",
   "execution_count": 4,
   "metadata": {},
   "outputs": [],
   "source": [
    "model = RecurrentPPO.load(\"./save_weights/best_model\")"
   ]
  },
  {
   "cell_type": "code",
   "execution_count": 5,
   "metadata": {},
   "outputs": [],
   "source": [
    "env.popup()"
   ]
  },
  {
   "cell_type": "code",
   "execution_count": 6,
   "metadata": {},
   "outputs": [
    {
     "data": {
      "text/plain": [
       "array([0. , 0. , 3.8, 4. , 0. , 0.2, 0. , 0. , 0. ], dtype=float32)"
      ]
     },
     "execution_count": 6,
     "metadata": {},
     "output_type": "execute_result"
    }
   ],
   "source": [
    "env.reset()"
   ]
  },
  {
   "cell_type": "code",
   "execution_count": 38,
   "metadata": {},
   "outputs": [
    {
     "name": "stdout",
     "output_type": "stream",
     "text": [
      "19\n",
      "False\n",
      "[300]\n",
      "[160 460]\n",
      "16\n",
      "False\n",
      "[280]\n",
      "[140 440]\n",
      "12\n",
      "False\n",
      "[260]\n",
      "[120 420]\n",
      "16\n",
      "False\n",
      "[240]\n",
      "[100 400]\n",
      "6\n",
      "False\n",
      "[220]\n",
      "[ 80 380]\n",
      "24\n",
      "False\n",
      "[200]\n",
      "[ 60 360]\n",
      "16\n",
      "False\n",
      "[180]\n",
      "[ 40 340]\n",
      "6\n",
      "False\n",
      "[160]\n",
      "[ 20 320]\n",
      "11\n",
      "True\n",
      "[140 500]\n",
      "[  0 300]\n",
      "12\n",
      "False\n",
      "[-20 140 380]\n",
      "[ 80 240 480]\n"
     ]
    }
   ],
   "source": [
    "for i in range(10):\n",
    "    action, _ = model.predict(obs)\n",
    "    obs, reward, done, info = env.step(action)\n",
    "    print(action)\n",
    "    print(done)\n",
    "    print(env.L_pegloc)\n",
    "    print(env.R_pegloc)\n",
    "    env.render()\n",
    "    if done:\n",
    "        env.reset()"
   ]
  },
  {
   "cell_type": "code",
   "execution_count": 20,
   "metadata": {},
   "outputs": [],
   "source": [
    "Rpeg = [100,250,500,850,1150,1450,1850,2250,2400,2800,3250,3650]"
   ]
  },
  {
   "cell_type": "code",
   "execution_count": 25,
   "metadata": {},
   "outputs": [
    {
     "data": {
      "text/plain": [
       "[100, 250, 500, 850, 1150, 1450, 1850, 2250, 2400, 2800, 3250, 3650]"
      ]
     },
     "execution_count": 25,
     "metadata": {},
     "output_type": "execute_result"
    }
   ],
   "source": [
    "Rpeg"
   ]
  },
  {
   "cell_type": "code",
   "execution_count": 23,
   "metadata": {},
   "outputs": [],
   "source": [
    "Rdet = sorted(list(map(lambda x:(x+4000-int(0.5*1000))%4000, Rpeg)))"
   ]
  },
  {
   "cell_type": "code",
   "execution_count": 24,
   "metadata": {},
   "outputs": [
    {
     "data": {
      "text/plain": [
       "[0, 350, 650, 950, 1350, 1750, 1900, 2300, 2750, 3150, 3600, 3750]"
      ]
     },
     "execution_count": 24,
     "metadata": {},
     "output_type": "execute_result"
    }
   ],
   "source": [
    "Rdet"
   ]
  },
  {
   "cell_type": "code",
   "execution_count": null,
   "metadata": {},
   "outputs": [],
   "source": []
  }
 ],
 "metadata": {
  "kernelspec": {
   "display_name": "Python 3",
   "language": "python",
   "name": "python3"
  },
  "language_info": {
   "codemirror_mode": {
    "name": "ipython",
    "version": 3
   },
   "file_extension": ".py",
   "mimetype": "text/x-python",
   "name": "python",
   "nbconvert_exporter": "python",
   "pygments_lexer": "ipython3",
   "version": "3.7.4"
  }
 },
 "nbformat": 4,
 "nbformat_minor": 2
}
