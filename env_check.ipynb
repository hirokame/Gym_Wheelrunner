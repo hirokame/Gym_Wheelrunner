{
 "cells": [
  {
   "cell_type": "code",
   "execution_count": 2,
   "metadata": {},
   "outputs": [
    {
     "name": "stdout",
     "output_type": "stream",
     "text": [
      "Using cuda device\n",
      "Wrapping the env with a `Monitor` wrapper\n",
      "Wrapping the env in a DummyVecEnv.\n"
     ]
    }
   ],
   "source": [
    "from environment import CustomEnv\n",
    "import matplotlib.pyplot as plt\n",
    "import numpy as np\n",
    "\n",
    "from stable_baselines3.dqn.policies import MlpPolicy\n",
    "from stable_baselines3 import DQN\n",
    "\n",
    "%matplotlib qt\n",
    "\n",
    "env = CustomEnv()\n",
    "obs = env.reset()\n",
    "\n",
    "model = DQN(MlpPolicy, env, verbose=1, tensorboard_log=\"log\")"
   ]
  },
  {
   "cell_type": "code",
   "execution_count": 3,
   "metadata": {},
   "outputs": [],
   "source": [
    "model = DQN.load(\"./save_weights/rl_model_10000_steps\")"
   ]
  },
  {
   "cell_type": "code",
   "execution_count": 4,
   "metadata": {},
   "outputs": [],
   "source": [
    "env.popup()"
   ]
  },
  {
   "cell_type": "code",
   "execution_count": 5,
   "metadata": {},
   "outputs": [
    {
     "name": "stdout",
     "output_type": "stream",
     "text": [
      "action 8\n",
      "action 8\n",
      "action 8\n",
      "action 8\n",
      "action 8\n",
      "action 8\n",
      "action 8\n",
      "action 8\n",
      "action 8\n",
      "action 8\n",
      "action 8\n",
      "action 8\n",
      "action 8\n",
      "action 8\n",
      "action 8\n",
      "action 8\n",
      "action 2\n",
      "action 2\n",
      "action 2\n",
      "action 2\n",
      "action 2\n",
      "action 4\n",
      "action 4\n",
      "action 4\n",
      "action 4\n",
      "action 4\n",
      "action 4\n",
      "action 4\n",
      "action 4\n",
      "action 4\n",
      "action 8\n",
      "action 4\n",
      "action 4\n",
      "action 7\n",
      "action 4\n",
      "action 4\n",
      "action 4\n",
      "action 4\n",
      "action 4\n",
      "action 4\n",
      "action 2\n",
      "action 2\n",
      "action 2\n",
      "action 8\n",
      "action 4\n",
      "action 5\n",
      "action 2\n",
      "action 5\n",
      "action 4\n",
      "action 4\n",
      "action 4\n",
      "action 4\n",
      "action 4\n",
      "action 4\n",
      "action 4\n",
      "action 4\n",
      "action 4\n",
      "action 4\n",
      "action 4\n",
      "action 4\n",
      "action 4\n",
      "action 4\n",
      "action 5\n",
      "action 4\n",
      "action 4\n",
      "action 4\n",
      "action 4\n",
      "action 4\n",
      "action 4\n",
      "action 4\n",
      "action 4\n",
      "action 4\n",
      "action 4\n",
      "action 4\n",
      "action 4\n",
      "action 2\n",
      "action 0\n",
      "action 8\n",
      "action 8\n",
      "action 4\n",
      "action 4\n",
      "action 4\n",
      "action 4\n",
      "action 4\n",
      "action 8\n",
      "action 4\n",
      "action 4\n",
      "action 4\n",
      "action 4\n",
      "action 4\n",
      "action 8\n",
      "action 2\n",
      "action 4\n",
      "action 8\n",
      "action 8\n",
      "action 8\n",
      "action 8\n",
      "action 8\n",
      "action 8\n",
      "action 8\n",
      "obs [ 1.1023008   0.97663707 10.27876     8.707963    0.          0.        ]\n",
      "reward 38.9498937230309\n",
      "done False\n"
     ]
    }
   ],
   "source": [
    "for i in range(100):\n",
    "    print(\"action\", action)\n",
    "    obs, reward, done, info = env.step(action)\n",
    "    env.render()\n",
    "    \n",
    "    if done:\n",
    "        env.reset()\n",
    "print(\"obs\",obs)\n",
    "print(\"reward\",reward)\n",
    "print(\"done\", done)"
   ]
  },
  {
   "cell_type": "code",
   "execution_count": null,
   "metadata": {},
   "outputs": [],
   "source": []
  }
 ],
 "metadata": {
  "kernelspec": {
   "display_name": "Python 3",
   "language": "python",
   "name": "python3"
  },
  "language_info": {
   "codemirror_mode": {
    "name": "ipython",
    "version": 3
   },
   "file_extension": ".py",
   "mimetype": "text/x-python",
   "name": "python",
   "nbconvert_exporter": "python",
   "pygments_lexer": "ipython3",
   "version": "3.7.4"
  }
 },
 "nbformat": 4,
 "nbformat_minor": 2
}
